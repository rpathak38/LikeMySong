{
  "nbformat": 4,
  "nbformat_minor": 0,
  "metadata": {
    "colab": {
      "name": "Birch_songs.ipynb",
      "provenance": [],
      "collapsed_sections": [],
      "machine_shape": "hm"
    },
    "kernelspec": {
      "name": "python3",
      "display_name": "Python 3"
    },
    "accelerator": "GPU"
  },
  "cells": [
    {
      "cell_type": "code",
      "metadata": {
        "id": "RIBt5ZlpG0Qh"
      },
      "source": [
        "import pandas as pd\r\n",
        "from sklearn.cluster import Birch\r\n",
        "from sklearn.preprocessing import StandardScaler\r\n",
        "from sklearn.decomposition import PCA\r\n",
        "import matplotlib.pyplot as plt\r\n",
        "import csv\r\n",
        "import pickle\r\n",
        "import numpy as np"
      ],
      "execution_count": null,
      "outputs": []
    },
    {
      "cell_type": "code",
      "metadata": {
        "id": "RkZKxDAyHZrJ"
      },
      "source": [
        "def dataclean(filePath):\r\n",
        "    '''\r\n",
        "    Cleans the data to be feeded into the KMeans model.\r\n",
        "    Assigns variables to be stored in the output csv. \r\n",
        "    '''\r\n",
        "    data = pd.read_csv(filePath)\r\n",
        "    names = data[['name']]\r\n",
        "    artist = data[['artists']]\r\n",
        "    ids = data[['id']]\r\n",
        "\r\n",
        "    dropThis = ['year', 'artists', 'explicit', 'duration_ms', 'popularity', 'id', 'release_date', 'name', 'liveness', 'mode']\r\n",
        "    for name in dropThis:\r\n",
        "        data = data.drop(name, 1);\r\n",
        "    return (data, names, artist, ids)"
      ],
      "execution_count": null,
      "outputs": []
    },
    {
      "cell_type": "code",
      "metadata": {
        "id": "bMuKP7m-Ij9x"
      },
      "source": [
        "datapath = \"/tmp/data.csv\"\r\n",
        "song_data = pd.read_csv(datapath)\r\n",
        "song_data = song_data.dropna()\r\n",
        "song_data.to_csv(\"/tmp/cleandata.csv\")"
      ],
      "execution_count": null,
      "outputs": []
    },
    {
      "cell_type": "code",
      "metadata": {
        "id": "hKy1hHaIKfYn"
      },
      "source": [
        "clean_path = \"/tmp/cleandata.csv\"\r\n",
        "data, names, artists, IDs = dataclean(clean_path)"
      ],
      "execution_count": null,
      "outputs": []
    },
    {
      "cell_type": "code",
      "metadata": {
        "id": "GnuAVCIaHvjE"
      },
      "source": [
        "def normalize(data):\r\n",
        "    '''\r\n",
        "    Uses a Standard Scaler to perform feature scaling on the cleansed data.\r\n",
        "    '''\r\n",
        "    X = data.to_numpy()\r\n",
        "    sc = StandardScaler()\r\n",
        "    sc.fit(X)\r\n",
        "    X = sc.transform(X)\r\n",
        "    return X, sc"
      ],
      "execution_count": null,
      "outputs": []
    },
    {
      "cell_type": "code",
      "metadata": {
        "colab": {
          "base_uri": "https://localhost:8080/"
        },
        "id": "RAwZxSOGLE2K",
        "outputId": "0705657f-a4a0-45b0-a8fd-431ac953200f"
      },
      "source": [
        "X, scaler = normalize(data)\r\n",
        "print(len(X[0])) #Number of initial components"
      ],
      "execution_count": null,
      "outputs": [
        {
          "output_type": "stream",
          "text": [
            "10\n"
          ],
          "name": "stdout"
        }
      ]
    },
    {
      "cell_type": "code",
      "metadata": {
        "id": "hte3QV8NOeed"
      },
      "source": [
        "def pca(data, components):\r\n",
        "  pca = PCA(n_components = components)\r\n",
        "  pca.fit(data)\r\n",
        "  data = pca.transform(data)\r\n",
        "  return data, pca"
      ],
      "execution_count": null,
      "outputs": []
    },
    {
      "cell_type": "code",
      "metadata": {
        "id": "9dK8GAGlPSIM"
      },
      "source": [
        "X, pca_model = pca(X, 5)"
      ],
      "execution_count": null,
      "outputs": []
    },
    {
      "cell_type": "code",
      "metadata": {
        "id": "_N6EypiBHzcs"
      },
      "source": [
        "def birch(data):\r\n",
        "    '''\r\n",
        "    Fits a birch model with the data and returns the model.\r\n",
        "    '''\r\n",
        "    model = Birch(n_clusters = None)\r\n",
        "    model.fit(data)\r\n",
        "    return model"
      ],
      "execution_count": null,
      "outputs": []
    },
    {
      "cell_type": "code",
      "metadata": {
        "colab": {
          "base_uri": "https://localhost:8080/"
        },
        "id": "rkliGoHKLoly",
        "outputId": "e8280f89-4da8-4c3a-9ec4-118def05c332"
      },
      "source": [
        "model = Birch(n_clusters = 10000)\r\n",
        "model.fit(X)"
      ],
      "execution_count": null,
      "outputs": [
        {
          "output_type": "execute_result",
          "data": {
            "text/plain": [
              "Birch(branching_factor=50, compute_labels=True, copy=True, n_clusters=10000,\n",
              "      threshold=0.5)"
            ]
          },
          "metadata": {
            "tags": []
          },
          "execution_count": 10
        }
      ]
    },
    {
      "cell_type": "code",
      "metadata": {
        "colab": {
          "base_uri": "https://localhost:8080/"
        },
        "id": "S7bfYyATS4Eu",
        "outputId": "773b45a7-e510-45ea-e0bf-532231e607c4"
      },
      "source": [
        "print(np.amax(model.labels_))"
      ],
      "execution_count": null,
      "outputs": [
        {
          "output_type": "stream",
          "text": [
            "9999\n"
          ],
          "name": "stdout"
        }
      ]
    },
    {
      "cell_type": "code",
      "metadata": {
        "id": "wwiEKlBeH8pb"
      },
      "source": [
        "def csvWrite(data, names, artists, ids, model):\r\n",
        "    ''' \r\n",
        "    Writes the data with the assigned clusters to a csv file.\r\n",
        "    '''\r\n",
        "    with open(\"/home/birch_final.csv\", \"w\") as fout:\r\n",
        "        csv_writer = csv.writer(fout)\r\n",
        "        temp = list(zip(names.values.flatten(), artists.values, ids.values.flatten(), model.labels_))\r\n",
        "        temp.sort(key = lambda x: x[3])\r\n",
        "        for name, artist, ids, label in temp:\r\n",
        "            csv_writer.writerow([name, artist, ids, label])\r\n"
      ],
      "execution_count": null,
      "outputs": []
    },
    {
      "cell_type": "code",
      "metadata": {
        "id": "SDUdFrcSUtO-"
      },
      "source": [
        "csvWrite(data, names, artists, IDs, model)"
      ],
      "execution_count": null,
      "outputs": []
    },
    {
      "cell_type": "code",
      "metadata": {
        "colab": {
          "base_uri": "https://localhost:8080/",
          "height": 34
        },
        "id": "gKY7E5bp6iFk",
        "outputId": "bb347342-5d9b-4dc3-c7eb-7f41254770ab"
      },
      "source": [
        "from google.colab import files\n",
        "files.download(\"/home/birch_final.csv\")"
      ],
      "execution_count": null,
      "outputs": [
        {
          "output_type": "display_data",
          "data": {
            "application/javascript": [
              "\n",
              "    async function download(id, filename, size) {\n",
              "      if (!google.colab.kernel.accessAllowed) {\n",
              "        return;\n",
              "      }\n",
              "      const div = document.createElement('div');\n",
              "      const label = document.createElement('label');\n",
              "      label.textContent = `Downloading \"${filename}\": `;\n",
              "      div.appendChild(label);\n",
              "      const progress = document.createElement('progress');\n",
              "      progress.max = size;\n",
              "      div.appendChild(progress);\n",
              "      document.body.appendChild(div);\n",
              "\n",
              "      const buffers = [];\n",
              "      let downloaded = 0;\n",
              "\n",
              "      const channel = await google.colab.kernel.comms.open(id);\n",
              "      // Send a message to notify the kernel that we're ready.\n",
              "      channel.send({})\n",
              "\n",
              "      for await (const message of channel.messages) {\n",
              "        // Send a message to notify the kernel that we're ready.\n",
              "        channel.send({})\n",
              "        if (message.buffers) {\n",
              "          for (const buffer of message.buffers) {\n",
              "            buffers.push(buffer);\n",
              "            downloaded += buffer.byteLength;\n",
              "            progress.value = downloaded;\n",
              "          }\n",
              "        }\n",
              "      }\n",
              "      const blob = new Blob(buffers, {type: 'application/binary'});\n",
              "      const a = document.createElement('a');\n",
              "      a.href = window.URL.createObjectURL(blob);\n",
              "      a.download = filename;\n",
              "      div.appendChild(a);\n",
              "      a.click();\n",
              "      div.remove();\n",
              "    }\n",
              "  "
            ],
            "text/plain": [
              "<IPython.core.display.Javascript object>"
            ]
          },
          "metadata": {
            "tags": []
          }
        },
        {
          "output_type": "display_data",
          "data": {
            "application/javascript": [
              "download(\"download_657a791a-d47d-49b9-b0a8-5f9edebbce1f\", \"birch_final.csv\", 14857866)"
            ],
            "text/plain": [
              "<IPython.core.display.Javascript object>"
            ]
          },
          "metadata": {
            "tags": []
          }
        }
      ]
    },
    {
      "cell_type": "code",
      "metadata": {
        "id": "NDwX7tKwh0Hl",
        "colab": {
          "base_uri": "https://localhost:8080/"
        },
        "outputId": "6de71370-1b69-407a-efef-fd4d25b38120"
      },
      "source": [
        "model.partial_fit()"
      ],
      "execution_count": null,
      "outputs": [
        {
          "output_type": "execute_result",
          "data": {
            "text/plain": [
              "Birch(branching_factor=50, compute_labels=True, copy=True, n_clusters=10000,\n",
              "      threshold=0.5)"
            ]
          },
          "metadata": {
            "tags": []
          },
          "execution_count": 15
        }
      ]
    },
    {
      "cell_type": "code",
      "metadata": {
        "id": "Umi2-eReIDU_"
      },
      "source": [
        "def migrate(model, scaler, pca):\r\n",
        "  '''\r\n",
        "  Serializes the model and scaler to pickle files for deployment in Flask.\r\n",
        "  '''\r\n",
        "  pickle.dump(model, open(\"model_save.pkl\", \"wb\"))\r\n",
        "  pickle.dump(scaler, open(\"scaler_save.pkl\", \"wb\"))\r\n",
        "  pickle.dump(pca, open(\"pca_save.pkl\", \"wb\"))\r\n"
      ],
      "execution_count": null,
      "outputs": []
    },
    {
      "cell_type": "code",
      "metadata": {
        "id": "45yH-XP-xXjc"
      },
      "source": [
        "migrate(model, scaler, pca_model)"
      ],
      "execution_count": null,
      "outputs": []
    },
    {
      "cell_type": "code",
      "metadata": {
        "colab": {
          "base_uri": "https://localhost:8080/",
          "height": 68
        },
        "id": "mqCi61z3ZJz7",
        "outputId": "4739e929-0b62-492b-8b69-84789d6b712d"
      },
      "source": [
        "from google.colab import files\r\n",
        "files.download(\"/content/scaler_save.pkl\")\r\n",
        "files.download(\"/content/model_save.pkl\")\r\n",
        "files.download(\"/content/pca_save.pkl\")"
      ],
      "execution_count": null,
      "outputs": [
        {
          "output_type": "display_data",
          "data": {
            "application/javascript": [
              "\n",
              "    async function download(id, filename, size) {\n",
              "      if (!google.colab.kernel.accessAllowed) {\n",
              "        return;\n",
              "      }\n",
              "      const div = document.createElement('div');\n",
              "      const label = document.createElement('label');\n",
              "      label.textContent = `Downloading \"${filename}\": `;\n",
              "      div.appendChild(label);\n",
              "      const progress = document.createElement('progress');\n",
              "      progress.max = size;\n",
              "      div.appendChild(progress);\n",
              "      document.body.appendChild(div);\n",
              "\n",
              "      const buffers = [];\n",
              "      let downloaded = 0;\n",
              "\n",
              "      const channel = await google.colab.kernel.comms.open(id);\n",
              "      // Send a message to notify the kernel that we're ready.\n",
              "      channel.send({})\n",
              "\n",
              "      for await (const message of channel.messages) {\n",
              "        // Send a message to notify the kernel that we're ready.\n",
              "        channel.send({})\n",
              "        if (message.buffers) {\n",
              "          for (const buffer of message.buffers) {\n",
              "            buffers.push(buffer);\n",
              "            downloaded += buffer.byteLength;\n",
              "            progress.value = downloaded;\n",
              "          }\n",
              "        }\n",
              "      }\n",
              "      const blob = new Blob(buffers, {type: 'application/binary'});\n",
              "      const a = document.createElement('a');\n",
              "      a.href = window.URL.createObjectURL(blob);\n",
              "      a.download = filename;\n",
              "      div.appendChild(a);\n",
              "      a.click();\n",
              "      div.remove();\n",
              "    }\n",
              "  "
            ],
            "text/plain": [
              "<IPython.core.display.Javascript object>"
            ]
          },
          "metadata": {
            "tags": []
          }
        },
        {
          "output_type": "display_data",
          "data": {
            "application/javascript": [
              "download(\"download_35903532-d1e7-436f-9e11-d65dbaafa0cf\", \"scaler_save.pkl\", 759)"
            ],
            "text/plain": [
              "<IPython.core.display.Javascript object>"
            ]
          },
          "metadata": {
            "tags": []
          }
        },
        {
          "output_type": "display_data",
          "data": {
            "application/javascript": [
              "\n",
              "    async function download(id, filename, size) {\n",
              "      if (!google.colab.kernel.accessAllowed) {\n",
              "        return;\n",
              "      }\n",
              "      const div = document.createElement('div');\n",
              "      const label = document.createElement('label');\n",
              "      label.textContent = `Downloading \"${filename}\": `;\n",
              "      div.appendChild(label);\n",
              "      const progress = document.createElement('progress');\n",
              "      progress.max = size;\n",
              "      div.appendChild(progress);\n",
              "      document.body.appendChild(div);\n",
              "\n",
              "      const buffers = [];\n",
              "      let downloaded = 0;\n",
              "\n",
              "      const channel = await google.colab.kernel.comms.open(id);\n",
              "      // Send a message to notify the kernel that we're ready.\n",
              "      channel.send({})\n",
              "\n",
              "      for await (const message of channel.messages) {\n",
              "        // Send a message to notify the kernel that we're ready.\n",
              "        channel.send({})\n",
              "        if (message.buffers) {\n",
              "          for (const buffer of message.buffers) {\n",
              "            buffers.push(buffer);\n",
              "            downloaded += buffer.byteLength;\n",
              "            progress.value = downloaded;\n",
              "          }\n",
              "        }\n",
              "      }\n",
              "      const blob = new Blob(buffers, {type: 'application/binary'});\n",
              "      const a = document.createElement('a');\n",
              "      a.href = window.URL.createObjectURL(blob);\n",
              "      a.download = filename;\n",
              "      div.appendChild(a);\n",
              "      a.click();\n",
              "      div.remove();\n",
              "    }\n",
              "  "
            ],
            "text/plain": [
              "<IPython.core.display.Javascript object>"
            ]
          },
          "metadata": {
            "tags": []
          }
        },
        {
          "output_type": "display_data",
          "data": {
            "application/javascript": [
              "download(\"download_af883d6c-ed94-4907-a25c-53a0831532a1\", \"model_save.pkl\", 6110657)"
            ],
            "text/plain": [
              "<IPython.core.display.Javascript object>"
            ]
          },
          "metadata": {
            "tags": []
          }
        },
        {
          "output_type": "display_data",
          "data": {
            "application/javascript": [
              "\n",
              "    async function download(id, filename, size) {\n",
              "      if (!google.colab.kernel.accessAllowed) {\n",
              "        return;\n",
              "      }\n",
              "      const div = document.createElement('div');\n",
              "      const label = document.createElement('label');\n",
              "      label.textContent = `Downloading \"${filename}\": `;\n",
              "      div.appendChild(label);\n",
              "      const progress = document.createElement('progress');\n",
              "      progress.max = size;\n",
              "      div.appendChild(progress);\n",
              "      document.body.appendChild(div);\n",
              "\n",
              "      const buffers = [];\n",
              "      let downloaded = 0;\n",
              "\n",
              "      const channel = await google.colab.kernel.comms.open(id);\n",
              "      // Send a message to notify the kernel that we're ready.\n",
              "      channel.send({})\n",
              "\n",
              "      for await (const message of channel.messages) {\n",
              "        // Send a message to notify the kernel that we're ready.\n",
              "        channel.send({})\n",
              "        if (message.buffers) {\n",
              "          for (const buffer of message.buffers) {\n",
              "            buffers.push(buffer);\n",
              "            downloaded += buffer.byteLength;\n",
              "            progress.value = downloaded;\n",
              "          }\n",
              "        }\n",
              "      }\n",
              "      const blob = new Blob(buffers, {type: 'application/binary'});\n",
              "      const a = document.createElement('a');\n",
              "      a.href = window.URL.createObjectURL(blob);\n",
              "      a.download = filename;\n",
              "      div.appendChild(a);\n",
              "      a.click();\n",
              "      div.remove();\n",
              "    }\n",
              "  "
            ],
            "text/plain": [
              "<IPython.core.display.Javascript object>"
            ]
          },
          "metadata": {
            "tags": []
          }
        },
        {
          "output_type": "display_data",
          "data": {
            "application/javascript": [
              "download(\"download_a7c37487-295e-4955-a7a4-51239691cf2a\", \"pca_save.pkl\", 1413)"
            ],
            "text/plain": [
              "<IPython.core.display.Javascript object>"
            ]
          },
          "metadata": {
            "tags": []
          }
        }
      ]
    }
  ]
}