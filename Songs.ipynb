{
  "nbformat": 4,
  "nbformat_minor": 0,
  "metadata": {
    "colab": {
      "name": "Songs.ipynb",
      "provenance": [],
      "machine_shape": "hm",
      "include_colab_link": true
    },
    "kernelspec": {
      "name": "python3",
      "display_name": "Python 3"
    }
  },
  "cells": [
    {
      "cell_type": "markdown",
      "metadata": {
        "id": "view-in-github",
        "colab_type": "text"
      },
      "source": [
        "<a href=\"https://colab.research.google.com/github/rpathak38/SongRecommender/blob/main/Songs.ipynb\" target=\"_parent\"><img src=\"https://colab.research.google.com/assets/colab-badge.svg\" alt=\"Open In Colab\"/></a>"
      ]
    },
    {
      "cell_type": "code",
      "metadata": {
        "id": "yXRESy2IYwM7"
      },
      "source": [
        "import pandas as pd\n",
        "from sklearn.cluster import MiniBatchKMeans\n",
        "from sklearn.preprocessing import StandardScaler\n",
        "import sklearn.decomposition as decomp\n",
        "import matplotlib.pyplot as plt\n",
        "import csv\n",
        "import pickle"
      ],
      "execution_count": 42,
      "outputs": []
    },
    {
      "cell_type": "code",
      "metadata": {
        "colab": {
          "base_uri": "https://localhost:8080/"
        },
        "id": "sM9mGmfIYwQ5",
        "outputId": "840388df-4f04-4a5a-ecf1-1fe6b537641c"
      },
      "source": [
        "# Data Cleaning and Organization\n",
        "data = pd.read_csv(\"/home/data.csv\")\n",
        "names = data[['name']]\n",
        "artist = data[['artists']]\n",
        "id = data[['id']]\n",
        "\n",
        "dropThis = ['year', 'artists', 'explicit', 'duration_ms', 'popularity', 'id', 'release_date', 'name', 'key']\n",
        "for name in dropThis:\n",
        "    data = data.drop(name, 1);\n",
        "\n",
        "print('done')\n"
      ],
      "execution_count": 43,
      "outputs": [
        {
          "output_type": "stream",
          "text": [
            "done\n"
          ],
          "name": "stdout"
        }
      ]
    },
    {
      "cell_type": "code",
      "metadata": {
        "id": "bI8J4D5vYwTm"
      },
      "source": [
        "# Normalization (Scaling)\n",
        "X = data.to_numpy()\n",
        "sc = StandardScaler()\n",
        "sc.fit(X)\n",
        "X = sc.transform(X)"
      ],
      "execution_count": 44,
      "outputs": []
    },
    {
      "cell_type": "code",
      "metadata": {
        "id": "VQVTZvL-s9TS"
      },
      "source": [
        "# Dimensionality Reduction (PCA)\n",
        "#pca = decomp.KernelPCA(n_components=2, kernel='rbf')\n",
        "#X = pca.fit_transform(X)\n",
        "#print(X.shape)"
      ],
      "execution_count": 45,
      "outputs": []
    },
    {
      "cell_type": "code",
      "metadata": {
        "colab": {
          "base_uri": "https://localhost:8080/"
        },
        "id": "De8AhhWCY89Y",
        "outputId": "d58f5092-59f3-42c6-d65b-68d9fd6f2d2a"
      },
      "source": [
        "# Agglomerative Clustering\n",
        "agglomerative = MiniBatchKMeans(n_clusters=16000, batch_size=32, random_state=101, verbose=1, init_size=160001)\n",
        "print(agglomerative.fit(X))\n",
        "\n",
        "# plt.scatter(X[:,0], X[:,1], c = agglomerative.labels_, cmap= 'rainbow')\n",
        "# plt.show()\n"
      ],
      "execution_count": 46,
      "outputs": [
        {
          "output_type": "stream",
          "text": [
            "Init 1/3 with method: k-means++\n",
            "Inertia for init 1/3: 50489.877224\n",
            "Init 2/3 with method: k-means++\n",
            "Inertia for init 2/3: 50323.480743\n",
            "Init 3/3 with method: k-means++\n",
            "Inertia for init 3/3: 50293.161212\n",
            "Minibatch iteration 1/533300: mean batch inertia: 0.393552, ewa inertia: 0.393552 \n",
            "Minibatch iteration 2/533300: mean batch inertia: 0.361506, ewa inertia: 0.393540 \n",
            "Minibatch iteration 3/533300: mean batch inertia: 0.418968, ewa inertia: 0.393550 \n",
            "Minibatch iteration 4/533300: mean batch inertia: 0.348021, ewa inertia: 0.393533 \n",
            "Minibatch iteration 5/533300: mean batch inertia: 0.440149, ewa inertia: 0.393550 \n",
            "Minibatch iteration 6/533300: mean batch inertia: 0.381828, ewa inertia: 0.393546 \n",
            "Minibatch iteration 7/533300: mean batch inertia: 0.460157, ewa inertia: 0.393571 \n",
            "Minibatch iteration 8/533300: mean batch inertia: 0.309308, ewa inertia: 0.393539 \n",
            "Minibatch iteration 9/533300: mean batch inertia: 0.339562, ewa inertia: 0.393519 \n",
            "[MiniBatchKMeans] Reassigning 16 cluster centers.\n",
            "Minibatch iteration 10/533300: mean batch inertia: 0.452342, ewa inertia: 0.393541 \n",
            "Minibatch iteration 11/533300: mean batch inertia: 0.346591, ewa inertia: 0.393523 \n",
            "Minibatch iteration 12/533300: mean batch inertia: 0.515692, ewa inertia: 0.393569 \n",
            "Minibatch iteration 13/533300: mean batch inertia: 0.384115, ewa inertia: 0.393566 \n",
            "Minibatch iteration 14/533300: mean batch inertia: 0.405965, ewa inertia: 0.393570 \n",
            "Minibatch iteration 15/533300: mean batch inertia: 0.381327, ewa inertia: 0.393566 \n",
            "Minibatch iteration 16/533300: mean batch inertia: 0.320714, ewa inertia: 0.393538 \n",
            "Minibatch iteration 17/533300: mean batch inertia: 0.392656, ewa inertia: 0.393538 \n",
            "Minibatch iteration 18/533300: mean batch inertia: 0.402805, ewa inertia: 0.393542 \n",
            "Minibatch iteration 19/533300: mean batch inertia: 0.406266, ewa inertia: 0.393546 \n",
            "Converged (lack of improvement in inertia) at iteration 19/533300\n",
            "Computing label assignment and total inertia\n",
            "MiniBatchKMeans(batch_size=32, compute_labels=True, init='k-means++',\n",
            "                init_size=160001, max_iter=100, max_no_improvement=10,\n",
            "                n_clusters=16000, n_init=3, random_state=101,\n",
            "                reassignment_ratio=0.01, tol=0.0, verbose=1)\n"
          ],
          "name": "stdout"
        }
      ]
    },
    {
      "cell_type": "code",
      "metadata": {
        "id": "xaeiQEQ1ysx9",
        "outputId": "ba58a600-df23-44c5-aaa2-fb807d1ad039",
        "colab": {
          "base_uri": "https://localhost:8080/"
        }
      },
      "source": [
        "print(agglomerative.inertia_)"
      ],
      "execution_count": 47,
      "outputs": [
        {
          "output_type": "stream",
          "text": [
            "64187.03558209291\n"
          ],
          "name": "stdout"
        }
      ]
    },
    {
      "cell_type": "code",
      "metadata": {
        "id": "OL-lqCnhZAeh"
      },
      "source": [
        "with open(\"/home/cluster.csv\", \"w\") as fout:\n",
        "    csv_writer = csv.writer(fout)\n",
        "    temp = list(zip(names.values.flatten(), artist.values, id.values.flatten(), agglomerative.labels_))\n",
        "    temp.sort(key = lambda x: x[3])\n",
        "    for name, artist, id, label in temp:\n",
        "        csv_writer.writerow([name, artist, id, label])"
      ],
      "execution_count": 48,
      "outputs": []
    },
    {
      "cell_type": "code",
      "metadata": {
        "colab": {
          "base_uri": "https://localhost:8080/",
          "height": 17
        },
        "id": "d-pGqLjdaCwT",
        "outputId": "33f77478-43eb-46cd-a4be-b6e84d2b0434"
      },
      "source": [
        "from google.colab import files\n",
        "\n",
        "files.download('/home/cluster.csv')"
      ],
      "execution_count": 49,
      "outputs": [
        {
          "output_type": "display_data",
          "data": {
            "application/javascript": [
              "\n",
              "    async function download(id, filename, size) {\n",
              "      if (!google.colab.kernel.accessAllowed) {\n",
              "        return;\n",
              "      }\n",
              "      const div = document.createElement('div');\n",
              "      const label = document.createElement('label');\n",
              "      label.textContent = `Downloading \"${filename}\": `;\n",
              "      div.appendChild(label);\n",
              "      const progress = document.createElement('progress');\n",
              "      progress.max = size;\n",
              "      div.appendChild(progress);\n",
              "      document.body.appendChild(div);\n",
              "\n",
              "      const buffers = [];\n",
              "      let downloaded = 0;\n",
              "\n",
              "      const channel = await google.colab.kernel.comms.open(id);\n",
              "      // Send a message to notify the kernel that we're ready.\n",
              "      channel.send({})\n",
              "\n",
              "      for await (const message of channel.messages) {\n",
              "        // Send a message to notify the kernel that we're ready.\n",
              "        channel.send({})\n",
              "        if (message.buffers) {\n",
              "          for (const buffer of message.buffers) {\n",
              "            buffers.push(buffer);\n",
              "            downloaded += buffer.byteLength;\n",
              "            progress.value = downloaded;\n",
              "          }\n",
              "        }\n",
              "      }\n",
              "      const blob = new Blob(buffers, {type: 'application/binary'});\n",
              "      const a = document.createElement('a');\n",
              "      a.href = window.URL.createObjectURL(blob);\n",
              "      a.download = filename;\n",
              "      div.appendChild(a);\n",
              "      a.click();\n",
              "      div.remove();\n",
              "    }\n",
              "  "
            ],
            "text/plain": [
              "<IPython.core.display.Javascript object>"
            ]
          },
          "metadata": {
            "tags": []
          }
        },
        {
          "output_type": "display_data",
          "data": {
            "application/javascript": [
              "download(\"download_0744404b-96fd-4c84-820b-e910d7f9860b\", \"cluster.csv\", 14923768)"
            ],
            "text/plain": [
              "<IPython.core.display.Javascript object>"
            ]
          },
          "metadata": {
            "tags": []
          }
        }
      ]
    },
    {
      "cell_type": "code",
      "metadata": {
        "id": "gUptkPFoMWBw",
        "outputId": "6d81e3b3-76b7-497f-fc54-c1d2b985558e",
        "colab": {
          "base_uri": "https://localhost:8080/",
          "height": 17
        }
      },
      "source": [
        "from google.colab import files\r\n",
        "\r\n",
        "files.download('/content/model_save.pkl')"
      ],
      "execution_count": 54,
      "outputs": [
        {
          "output_type": "display_data",
          "data": {
            "application/javascript": [
              "\n",
              "    async function download(id, filename, size) {\n",
              "      if (!google.colab.kernel.accessAllowed) {\n",
              "        return;\n",
              "      }\n",
              "      const div = document.createElement('div');\n",
              "      const label = document.createElement('label');\n",
              "      label.textContent = `Downloading \"${filename}\": `;\n",
              "      div.appendChild(label);\n",
              "      const progress = document.createElement('progress');\n",
              "      progress.max = size;\n",
              "      div.appendChild(progress);\n",
              "      document.body.appendChild(div);\n",
              "\n",
              "      const buffers = [];\n",
              "      let downloaded = 0;\n",
              "\n",
              "      const channel = await google.colab.kernel.comms.open(id);\n",
              "      // Send a message to notify the kernel that we're ready.\n",
              "      channel.send({})\n",
              "\n",
              "      for await (const message of channel.messages) {\n",
              "        // Send a message to notify the kernel that we're ready.\n",
              "        channel.send({})\n",
              "        if (message.buffers) {\n",
              "          for (const buffer of message.buffers) {\n",
              "            buffers.push(buffer);\n",
              "            downloaded += buffer.byteLength;\n",
              "            progress.value = downloaded;\n",
              "          }\n",
              "        }\n",
              "      }\n",
              "      const blob = new Blob(buffers, {type: 'application/binary'});\n",
              "      const a = document.createElement('a');\n",
              "      a.href = window.URL.createObjectURL(blob);\n",
              "      a.download = filename;\n",
              "      div.appendChild(a);\n",
              "      a.click();\n",
              "      div.remove();\n",
              "    }\n",
              "  "
            ],
            "text/plain": [
              "<IPython.core.display.Javascript object>"
            ]
          },
          "metadata": {
            "tags": []
          }
        },
        {
          "output_type": "display_data",
          "data": {
            "application/javascript": [
              "download(\"download_9d0d7227-b88e-4dc1-81c5-276bb617232c\", \"model_save.pkl\", 2091487)"
            ],
            "text/plain": [
              "<IPython.core.display.Javascript object>"
            ]
          },
          "metadata": {
            "tags": []
          }
        }
      ]
    },
    {
      "cell_type": "code",
      "metadata": {
        "id": "ctgcojfWBQCG"
      },
      "source": [
        "def migrate(model, scaler):\r\n",
        "  pickle.dump(model, open(\"model_save.pkl\", \"wb\"))\r\n",
        "  pickle.dump(scaler, open(\"scaler_save.pkl\", \"wb\"))\r\n",
        "\r\n",
        "migrate(agglomerative, sc)"
      ],
      "execution_count": 53,
      "outputs": []
    }
  ]
}