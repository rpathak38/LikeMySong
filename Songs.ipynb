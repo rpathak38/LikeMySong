{
  "nbformat": 4,
  "nbformat_minor": 0,
  "metadata": {
    "colab": {
      "name": "Songs.ipynb",
      "provenance": [],
      "machine_shape": "hm",
      "mount_file_id": "1iyy4MdBHZk5LpzGcj6wsCHpjlvI4w1mh",
      "authorship_tag": "ABX9TyMh+CEDID82ZbBYNZkqP92J",
      "include_colab_link": true
    },
    "kernelspec": {
      "name": "python3",
      "display_name": "Python 3"
    }
  },
  "cells": [
    {
      "cell_type": "markdown",
      "metadata": {
        "id": "view-in-github",
        "colab_type": "text"
      },
      "source": [
        "<a href=\"https://colab.research.google.com/github/rpathak38/SongRecommender/blob/main/Songs.ipynb\" target=\"_parent\"><img src=\"https://colab.research.google.com/assets/colab-badge.svg\" alt=\"Open In Colab\"/></a>"
      ]
    },
    {
      "cell_type": "code",
      "metadata": {
        "id": "yXRESy2IYwM7"
      },
      "source": [
        "import pandas as pd\n",
        "import sklearn.cluster as cluster\n",
        "from sklearn.preprocessing import scale\n",
        "import sklearn.decomposition as decomp\n",
        "import matplotlib.pyplot as plt\n",
        "import csv"
      ],
      "execution_count": null,
      "outputs": []
    },
    {
      "cell_type": "code",
      "metadata": {
        "colab": {
          "base_uri": "https://localhost:8080/"
        },
        "id": "sM9mGmfIYwQ5",
        "outputId": "14a67ff7-1709-4701-bb69-be1688a6b337"
      },
      "source": [
        "# Data Cleaning and Organization\n",
        "data = pd.read_csv(\"/home/data.csv\")\n",
        "names = data[['name']]\n",
        "artist = data[['artists']]\n",
        "id = data[['id']]\n",
        "\n",
        "dropThis = ['year', 'artists', 'explicit', 'duration_ms', 'popularity', 'id', 'release_date', 'name', 'key']\n",
        "for name in dropThis:\n",
        "    data = data.drop(name, 1);\n",
        "\n",
        "print('done')\n"
      ],
      "execution_count": null,
      "outputs": [
        {
          "output_type": "stream",
          "text": [
            "done\n"
          ],
          "name": "stdout"
        }
      ]
    },
    {
      "cell_type": "code",
      "metadata": {
        "id": "bI8J4D5vYwTm"
      },
      "source": [
        "# Normalization (Scaling)\n",
        "X = data.to_numpy()\n",
        "X = scale(X)"
      ],
      "execution_count": null,
      "outputs": []
    },
    {
      "cell_type": "code",
      "metadata": {
        "id": "VQVTZvL-s9TS"
      },
      "source": [
        "# Dimensionality Reduction (PCA)\n",
        "#pca = decomp.KernelPCA(n_components=2, kernel='rbf')\n",
        "#X = pca.fit_transform(X)\n",
        "#print(X.shape)"
      ],
      "execution_count": null,
      "outputs": []
    },
    {
      "cell_type": "code",
      "metadata": {
        "colab": {
          "base_uri": "https://localhost:8080/"
        },
        "id": "De8AhhWCY89Y",
        "outputId": "9aacbd76-a56b-4ea2-cf5c-da6ba9e60394"
      },
      "source": [
        "# Agglomerative Clustering\n",
        "agglomerative = cluster.MiniBatchKMeans(n_clusters=16000, batch_size=32, verbose=1, init_size=16001)\n",
        "print(agglomerative.fit_predict(X))\n",
        "\n",
        "# plt.scatter(X[:,0], X[:,1], c = agglomerative.labels_, cmap= 'rainbow')\n",
        "# plt.show()"
      ],
      "execution_count": null,
      "outputs": [
        {
          "output_type": "stream",
          "text": [
            "Init 1/3 with method: k-means++\n",
            "Inertia for init 1/3: 2754.143766\n",
            "Init 2/3 with method: k-means++\n",
            "Inertia for init 2/3: 2926.970298\n",
            "Init 3/3 with method: k-means++\n",
            "Inertia for init 3/3: 2815.304055\n",
            "Minibatch iteration 1/533300: mean batch inertia: 0.425210, ewa inertia: 0.425210 \n",
            "Minibatch iteration 2/533300: mean batch inertia: 0.422903, ewa inertia: 0.425209 \n",
            "Minibatch iteration 3/533300: mean batch inertia: 0.500386, ewa inertia: 0.425237 \n",
            "Minibatch iteration 4/533300: mean batch inertia: 0.528971, ewa inertia: 0.425276 \n",
            "Minibatch iteration 5/533300: mean batch inertia: 0.381493, ewa inertia: 0.425259 \n",
            "Minibatch iteration 6/533300: mean batch inertia: 0.471113, ewa inertia: 0.425277 \n",
            "Minibatch iteration 7/533300: mean batch inertia: 0.374196, ewa inertia: 0.425257 \n",
            "Minibatch iteration 8/533300: mean batch inertia: 0.486820, ewa inertia: 0.425280 \n",
            "Minibatch iteration 9/533300: mean batch inertia: 0.625713, ewa inertia: 0.425356 \n",
            "[MiniBatchKMeans] Reassigning 16 cluster centers.\n",
            "Minibatch iteration 10/533300: mean batch inertia: 0.604802, ewa inertia: 0.425423 \n",
            "Minibatch iteration 11/533300: mean batch inertia: 0.526002, ewa inertia: 0.425461 \n",
            "Minibatch iteration 12/533300: mean batch inertia: 0.420803, ewa inertia: 0.425459 \n",
            "Converged (lack of improvement in inertia) at iteration 12/533300\n",
            "Computing label assignment and total inertia\n",
            "[  465  6196  2980 ... 11662  5195 12399]\n"
          ],
          "name": "stdout"
        }
      ]
    },
    {
      "cell_type": "code",
      "metadata": {
        "colab": {
          "base_uri": "https://localhost:8080/",
          "height": 232
        },
        "id": "OL-lqCnhZAeh",
        "outputId": "af0bb0d2-648e-4e1d-8a3c-5e732dc3f82d"
      },
      "source": [
        "with open(\"/home/cluster.csv\", \"w\") as fout:\n",
        "    csv_writer = csv.writer(fout)\n",
        "    temp = list(zip(names.values.flatten(), artist.values, id.values.flatten(), agglomerative.labels_))\n",
        "    temp.sort(key = lambda x: x[3])\n",
        "    for name, artist, id, label in temp:\n",
        "        csv_writer.writerow([name, artist, id, label])\n",
        "print(\"finished\")"
      ],
      "execution_count": null,
      "outputs": [
        {
          "output_type": "error",
          "ename": "AttributeError",
          "evalue": "ignored",
          "traceback": [
            "\u001b[0;31m---------------------------------------------------------------------------\u001b[0m",
            "\u001b[0;31mAttributeError\u001b[0m                            Traceback (most recent call last)",
            "\u001b[0;32m<ipython-input-9-c2cf304fd3b9>\u001b[0m in \u001b[0;36m<module>\u001b[0;34m()\u001b[0m\n\u001b[1;32m      1\u001b[0m \u001b[0;32mwith\u001b[0m \u001b[0mopen\u001b[0m\u001b[0;34m(\u001b[0m\u001b[0;34m\"/home/names_classified_final32.csv\"\u001b[0m\u001b[0;34m,\u001b[0m \u001b[0;34m\"w\"\u001b[0m\u001b[0;34m)\u001b[0m \u001b[0;32mas\u001b[0m \u001b[0mfout\u001b[0m\u001b[0;34m:\u001b[0m\u001b[0;34m\u001b[0m\u001b[0;34m\u001b[0m\u001b[0m\n\u001b[1;32m      2\u001b[0m     \u001b[0mcsv_writer\u001b[0m \u001b[0;34m=\u001b[0m \u001b[0mcsv\u001b[0m\u001b[0;34m.\u001b[0m\u001b[0mwriter\u001b[0m\u001b[0;34m(\u001b[0m\u001b[0mfout\u001b[0m\u001b[0;34m)\u001b[0m\u001b[0;34m\u001b[0m\u001b[0;34m\u001b[0m\u001b[0m\n\u001b[0;32m----> 3\u001b[0;31m     \u001b[0mtemp\u001b[0m \u001b[0;34m=\u001b[0m \u001b[0mlist\u001b[0m\u001b[0;34m(\u001b[0m\u001b[0mzip\u001b[0m\u001b[0;34m(\u001b[0m\u001b[0mnames\u001b[0m\u001b[0;34m.\u001b[0m\u001b[0mvalues\u001b[0m\u001b[0;34m.\u001b[0m\u001b[0mflatten\u001b[0m\u001b[0;34m(\u001b[0m\u001b[0;34m)\u001b[0m\u001b[0;34m,\u001b[0m \u001b[0martist\u001b[0m\u001b[0;34m.\u001b[0m\u001b[0mvalues\u001b[0m\u001b[0;34m,\u001b[0m \u001b[0mid\u001b[0m\u001b[0;34m.\u001b[0m\u001b[0mvalues\u001b[0m\u001b[0;34m.\u001b[0m\u001b[0mflatten\u001b[0m\u001b[0;34m(\u001b[0m\u001b[0;34m)\u001b[0m\u001b[0;34m,\u001b[0m \u001b[0magglomerative\u001b[0m\u001b[0;34m.\u001b[0m\u001b[0mlabels_\u001b[0m\u001b[0;34m)\u001b[0m\u001b[0;34m)\u001b[0m\u001b[0;34m\u001b[0m\u001b[0;34m\u001b[0m\u001b[0m\n\u001b[0m\u001b[1;32m      4\u001b[0m     \u001b[0mtemp\u001b[0m\u001b[0;34m.\u001b[0m\u001b[0msort\u001b[0m\u001b[0;34m(\u001b[0m\u001b[0mkey\u001b[0m \u001b[0;34m=\u001b[0m \u001b[0;32mlambda\u001b[0m \u001b[0mx\u001b[0m\u001b[0;34m:\u001b[0m \u001b[0mx\u001b[0m\u001b[0;34m[\u001b[0m\u001b[0;36m3\u001b[0m\u001b[0;34m]\u001b[0m\u001b[0;34m)\u001b[0m\u001b[0;34m\u001b[0m\u001b[0;34m\u001b[0m\u001b[0m\n\u001b[1;32m      5\u001b[0m     \u001b[0;32mfor\u001b[0m \u001b[0mname\u001b[0m\u001b[0;34m,\u001b[0m \u001b[0martist\u001b[0m\u001b[0;34m,\u001b[0m \u001b[0mid\u001b[0m\u001b[0;34m,\u001b[0m \u001b[0mlabel\u001b[0m \u001b[0;32min\u001b[0m \u001b[0mtemp\u001b[0m\u001b[0;34m:\u001b[0m\u001b[0;34m\u001b[0m\u001b[0;34m\u001b[0m\u001b[0m\n",
            "\u001b[0;31mAttributeError\u001b[0m: 'numpy.ndarray' object has no attribute 'values'"
          ]
        }
      ]
    },
    {
      "cell_type": "code",
      "metadata": {
        "colab": {
          "base_uri": "https://localhost:8080/",
          "height": 17
        },
        "id": "d-pGqLjdaCwT",
        "outputId": "a75448c7-2dd1-4ce1-de89-c89e10f79262"
      },
      "source": [
        "from google.colab import files\n",
        "\n",
        "files.download('/home/cluster.csv')"
      ],
      "execution_count": null,
      "outputs": [
        {
          "output_type": "display_data",
          "data": {
            "application/javascript": [
              "\n",
              "    async function download(id, filename, size) {\n",
              "      if (!google.colab.kernel.accessAllowed) {\n",
              "        return;\n",
              "      }\n",
              "      const div = document.createElement('div');\n",
              "      const label = document.createElement('label');\n",
              "      label.textContent = `Downloading \"${filename}\": `;\n",
              "      div.appendChild(label);\n",
              "      const progress = document.createElement('progress');\n",
              "      progress.max = size;\n",
              "      div.appendChild(progress);\n",
              "      document.body.appendChild(div);\n",
              "\n",
              "      const buffers = [];\n",
              "      let downloaded = 0;\n",
              "\n",
              "      const channel = await google.colab.kernel.comms.open(id);\n",
              "      // Send a message to notify the kernel that we're ready.\n",
              "      channel.send({})\n",
              "\n",
              "      for await (const message of channel.messages) {\n",
              "        // Send a message to notify the kernel that we're ready.\n",
              "        channel.send({})\n",
              "        if (message.buffers) {\n",
              "          for (const buffer of message.buffers) {\n",
              "            buffers.push(buffer);\n",
              "            downloaded += buffer.byteLength;\n",
              "            progress.value = downloaded;\n",
              "          }\n",
              "        }\n",
              "      }\n",
              "      const blob = new Blob(buffers, {type: 'application/binary'});\n",
              "      const a = document.createElement('a');\n",
              "      a.href = window.URL.createObjectURL(blob);\n",
              "      a.download = filename;\n",
              "      div.appendChild(a);\n",
              "      a.click();\n",
              "      div.remove();\n",
              "    }\n",
              "  "
            ],
            "text/plain": [
              "<IPython.core.display.Javascript object>"
            ]
          },
          "metadata": {
            "tags": []
          }
        },
        {
          "output_type": "display_data",
          "data": {
            "application/javascript": [
              "download(\"download_e0b78882-6c7d-4ae8-a071-3f1e87fbc98c\", \"names_classified_final.csv\", 14937671)"
            ],
            "text/plain": [
              "<IPython.core.display.Javascript object>"
            ]
          },
          "metadata": {
            "tags": []
          }
        }
      ]
    }
  ]
}